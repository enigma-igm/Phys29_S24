{
 "cells": [
  {
   "cell_type": "markdown",
   "metadata": {},
   "source": [
    "<h1 style=\"font-size: 32px; text-align: center;\">Introduction to Computer Programming for the Physical Sciences</h1>\n",
    "<h2 style=\"font-size: 24px; text-align: center;\">Joseph F. Hennawi</h2>\n",
    "<h3 style=\"font-size: 24px; text-align: center;\">Spring 2024</h2>"
   ]
  },
  {
   "cell_type": "markdown",
   "metadata": {},
   "source": [
    "## Working on Section Problems\n",
    "\n",
    "<ul style=\"list-style: none;\">\n",
    "  <li style=\"margin-bottom: 10px; font-size: 20px;\"><span style=\"display: inline-block; width: 10px; height: 10px; border: 2px solid black; margin-right: 10px;\"></span>Get into groups of 2 or 3, with at least one laptop per group.</li>\n",
    "  <li style=\"margin-bottom: 10px; font-size: 20px;\"><span style=\"display: inline-block; width: 10px; height: 10px; border: 2px solid black; margin-right: 10px;\"></span>Discuss with each other and attempt each problem yourselves first without AI support for 10-15 mins.</li>\n",
    "  <li style=\"margin-bottom: 10px; font-size: 20px;\"><span style=\"display: inline-block; width: 10px; height: 10px; border: 2px solid black; margin-right: 10px;\">\n",
    "</span>Input the problem prompt into the AI chatbox, use its answer to verify your own, or to learn how it should be solved.</li>\n",
    "  <li style=\"margin-bottom: 10px; font-size: 20px;\"><span style=\"display: inline-block; width: 10px; height: 10px; border: 2px solid black; margin-right: 10px;\">\n",
    "</span>For section problems, you can omit most of the commenting and focus on learning coding. For more difficult problems, minimal comments are still recommended as a way of organizing your own thoughts.</li>\n",
    "  <li style=\"margin-bottom: 10px; font-size: 20px;\"><span style=\"display: inline-block; width: 10px; height: 10px; border: 2px solid black; margin-right: 10px;\"></span>Please abide by the <b><a href=\"https://github.com/enigma-igm/Phys29/blob/main/using_AI_tools.md\">Policy and Guidelines on Using AI Tools</a></b></li>"
   ]
  },
  {
   "cell_type": "markdown",
   "metadata": {},
   "source": [
    "# Section 10"
   ]
  },
  {
   "cell_type": "markdown",
   "metadata": {},
   "source": [
    "## Problem 1"
   ]
  },
  {
   "cell_type": "code",
   "execution_count": 1,
   "metadata": {
    "tags": []
   },
   "outputs": [],
   "source": [
    "from scipy import optimize, integrate\n",
    "import numpy as np\n",
    "import matplotlib.pyplot as plt\n",
    "from scipy.stats import poisson"
   ]
  },
  {
   "cell_type": "markdown",
   "metadata": {},
   "source": [
    "We return to the Poisson distribution introduced in Section 7 and in lecture, as a model for the number of meteors impacting Earth:\n",
    "\\begin{align}\n",
    "p(k;\\mu) = \\frac{\\mu^{k}e^{-\\mu}}{k!}\n",
    "\\end{align} \n",
    "\n",
    "Now let's take a look at the data for extinction level meteor impacts specifically, and infer the best fit $\\mu$ parameter in the poisson model via likelihood calculation. \n",
    "\n",
    "Since one extinction level impact happened during the 200 million years dinosaurs lived, assuming constant impact rate, that's 5 impacts every billion years. We'll use that as our first data point (5 counts per billion years). If we also assume that the Moon and the Earth experience the same rate of impacts, then we can look to the Moon for our second data point. There are around 10 extinction level impacts on the near-side of the Moon. After adjusting for the Moon's size relative to Earth's and assuming the far-side of the Moon has the same number of impacts, then the Moon gives us another data point of 20 impacts per billion years.\n",
    "\n",
    "**In summary, we have two data points, 5 counts per billion years, and 20 counts per billion years, assumed to be drawn from the same Poisson distribution with some $\\mu$.**\n",
    "\n",
    "a. Write a function that calculates the negative log likelihood, $-ln\\mathcal{L}$, of observing these two data points given the model parameter $\\mu$, $\\mathcal{L}(N_{obs}|\\mu)$ (you can find a function/method in the ```scipy.stats.poisson``` module for the log pmf calculation: ```poisson.logpmf```). Plot $-ln\\mathcal{L}$ vs $\\mu$ for a range of $\\mu$, estimate the best-fit $\\mu$ by eye. (Hint: You will need to calculate logpmf twice for each value of mu, once for each of our two $N_{obs}$ values, and combine them appropriately for your likelihood)\n",
    "\n",
    "b. Use ```scipy.optimize.minimize``` to minimize the negative log likelihood function and find the best-fit $\\mu$. Does it agree with your estimate? (Hint: You may need to pass in your $N_{obs}$ as an arg in the minimize function)\n",
    "\n",
    "c. Calculate the posterior distribution for $\\mu$: \n",
    "$$P(\\mu|N_{obs}) = \\frac{\\mathcal{L}(N_{obs}|\\mu)P(\\mu)}{\\int \\mathcal{L}(N_{obs}|\\mu)P(\\mu)}$$\n",
    "You can assume an uninformative prior, $P(\\mu)$, (uniform probability except negative values are not allowed). And plot this posterior distribution. (Hint: Recall that the posterior is defined in terms of the likelihood, NOT the log likelihood)"
   ]
  }
 ],
 "metadata": {
  "kernelspec": {
   "display_name": "Python 3 (ipykernel)",
   "language": "python",
   "name": "python3"
  },
  "language_info": {
   "codemirror_mode": {
    "name": "ipython",
    "version": 3
   },
   "file_extension": ".py",
   "mimetype": "text/x-python",
   "name": "python",
   "nbconvert_exporter": "python",
   "pygments_lexer": "ipython3",
   "version": "3.9.5"
  }
 },
 "nbformat": 4,
 "nbformat_minor": 4
}
